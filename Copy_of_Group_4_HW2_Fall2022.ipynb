{
  "nbformat": 4,
  "nbformat_minor": 0,
  "metadata": {
    "colab": {
      "private_outputs": true,
      "provenance": [],
      "collapsed_sections": [],
      "include_colab_link": true
    },
    "kernelspec": {
      "name": "python3",
      "display_name": "Python 3"
    }
  },
  "cells": [
    {
      "cell_type": "markdown",
      "metadata": {
        "id": "view-in-github",
        "colab_type": "text"
      },
      "source": [
        "<a href=\"https://colab.research.google.com/github/jslapp3/QTM-350/blob/main/Copy_of_Group_4_HW2_Fall2022.ipynb\" target=\"_parent\"><img src=\"https://colab.research.google.com/assets/colab-badge.svg\" alt=\"Open In Colab\"/></a>"
      ]
    },
    {
      "cell_type": "markdown",
      "metadata": {
        "id": "rvObaKKCzGwK"
      },
      "source": [
        "# Homework 2\n",
        "Complete the exercises working in your group. You may share the notebook with your group members using the share button in the upper right. Be careful with this feature. Although similar to Google Docs in functionality, you will notice that if two people are working on the same cell at the same time, then you may lose your work in that cell. "
      ]
    },
    {
      "cell_type": "markdown",
      "metadata": {
        "id": "RqhpdagcQ28W"
      },
      "source": [
        "# Question 1\n",
        "## API practice\n",
        "Using the New York Times API, answer the following questions.\n",
        "1. What book is number n on the bestseller list where n is your group number? (Use code to obtain and show code)\n",
        "2. What does the cover look like? Use code to obtain a picture of it using the API. Include a picture here using markdown.\n",
        "3. How much is it on Amazon? (Use code to obtain and show code)\n",
        "4. How long was it on the bestseller list for? (Use code to obtain and show code)\n",
        " \n"
      ]
    },
    {
      "cell_type": "code",
      "source": [
        "# Call the api to the NYtimes bestseller list\n",
        "\n",
        "!curl --request GET -o current-hardcover-fiction.json \"https://api.nytimes.com/svc/books/v3/lists/current/hardcover-fiction.json?api-key=jiF1V7lBL4xwrxx0GvMgVmQsKdkWagOJ\""
      ],
      "metadata": {
        "id": "qMwBZYlA12AN"
      },
      "execution_count": null,
      "outputs": []
    },
    {
      "cell_type": "code",
      "source": [
        "!ls\n",
        "\n",
        "!sudo apt-get install jq\n",
        "\n",
        "!jq < current-hardcover-fiction.json\n",
        "\n",
        "!jq '.results | .books' < current-hardcover-fiction.json > bestsellers.json"
      ],
      "metadata": {
        "id": "M1pTW85D3DSw"
      },
      "execution_count": null,
      "outputs": []
    },
    {
      "cell_type": "code",
      "source": [
        "import pandas as pd\n",
        "pd.read_json('bestsellers.json')\n",
        "df = pd.read_json('bestsellers.json')\n",
        "df.to_csv('bestsellers.csv')"
      ],
      "metadata": {
        "id": "Scv_XF8P3pFF"
      },
      "execution_count": null,
      "outputs": []
    },
    {
      "cell_type": "code",
      "source": [
        "!ls"
      ],
      "metadata": {
        "id": "tKNDvBvO4GYA"
      },
      "execution_count": null,
      "outputs": []
    },
    {
      "cell_type": "code",
      "source": [
        "df.head(10)"
      ],
      "metadata": {
        "id": "ymv-dfbu4JbX"
      },
      "execution_count": null,
      "outputs": []
    },
    {
      "cell_type": "markdown",
      "source": [
        "The following displays the book ranked number four on the list since we are a part of homework group four."
      ],
      "metadata": {
        "id": "toBNpu8RKRxY"
      }
    },
    {
      "cell_type": "code",
      "source": [
        "df.loc[df['rank'] == 4]"
      ],
      "metadata": {
        "id": "G-EgKdTf5gHB"
      },
      "execution_count": null,
      "outputs": []
    },
    {
      "cell_type": "markdown",
      "source": [
        "2. What does the cover look like? Use code to obtain a picture of it using the API. Include a picture here using markdown.\n",
        "3. How much is it on Amazon? (Use code to obtain and show code)\n",
        "4. How long was it on the bestseller list for? (Use code to obtain and show code)"
      ],
      "metadata": {
        "id": "uOSDznO8KlcM"
      }
    },
    {
      "cell_type": "code",
      "source": [
        "ourbook = df.loc[df['rank'] == 4]"
      ],
      "metadata": {
        "id": "onngx1GxKqsJ"
      },
      "execution_count": null,
      "outputs": []
    },
    {
      "cell_type": "code",
      "source": [
        "ourbook['amazon_product_url']\n",
        "\n",
        "!wget ourbook['amazon_product_url']"
      ],
      "metadata": {
        "id": "ZicoslnVK1lB"
      },
      "execution_count": null,
      "outputs": []
    },
    {
      "cell_type": "code",
      "source": [
        "ourbook['weeks_on_list']"
      ],
      "metadata": {
        "id": "zmyHkBsWLLR7"
      },
      "execution_count": null,
      "outputs": []
    },
    {
      "cell_type": "markdown",
      "metadata": {
        "id": "YMHPjghx-w9f"
      },
      "source": [
        "# Question 2\n",
        "## Reading the classics\n",
        "Among your group members, discuss the classics, e.g. books and authors found on Project Gutenberg, that you had read and loved, or hated. See Notebook 4 from the text for the link to this site as well as more details. Include your discussion in your notebook, along with pictures or links to the books to give the reader a sense of the books.\n",
        "\n",
        "Create three (or more) metrics that could measure what it was that you loved or hated about the books. Code the metric as a Python function. Explain each metric, including why you think it is a useful or interesting way to measure a book. For instance, a count of unique words could be a metric to measure vocabulary. Average sentence length could be a measure of the author's style. The frequency and distribution of the length of words could provide insights into the use of 'big' words by the author. \n",
        "\n",
        "Then, use `wget` to obtain the text of the books you discussed from Project Gutenberg, implement the metrics you created in Python, and analyze the books using these metrics. \n",
        "\n",
        "Hypothesize what you expect to find in the books before the analysis, and then discuss what you actually found. As much as possible, narrate and explain the insights provided by your metrics when appropriate.  If you are unsure how to get started, begin with the code the textbook used to analyze War and Peace, make simple modifications to it, justifying at each step what effect you expect your modification to have, and the actual impact it did have. For instance, instead of looking at a count of unique words, look at the max or min of this count.  "
      ]
    },
    {
      "cell_type": "code",
      "source": [
        "import os\n",
        "\n",
        "if not os.path.exists('2701-0.txt'):\n",
        "    !wget https://www.gutenberg.org/files/2701/2701-0.txt"
      ],
      "metadata": {
        "id": "yKUYft6pD5XV"
      },
      "execution_count": null,
      "outputs": []
    },
    {
      "cell_type": "markdown",
      "source": [
        "The first book that we chose is Moby-dick or the whale by Herman Melville. We chose to analyze this book because this book is one of the famous novel that people have heard of. Although it is well-known novel, some people, including Ryan, might have hesitated to read it as it has 135 chapters. This made us curious, so we decided to determine the author's writing style and what made this book so long. Through this analysis, we hope potential readers learn about this book and have interest in it. The link to the book is https://www.gutenberg.org/files/2701/2701-0.txt.\n",
        "\n",
        "Our group hyothesize that this book will have more unique words, lines, and sentences as the book has 135 chapters which is longer than the average novel. "
      ],
      "metadata": {
        "id": "-idY9jNMGxYe"
      }
    },
    {
      "cell_type": "markdown",
      "source": [
        "We searched stackoverflow to find how to insert image into the notebook.\n",
        "\n",
        "https://stackoverflow.com/questions/7391945/how-do-i-read-image-data-from-a-url-in-python"
      ],
      "metadata": {
        "id": "QH45F2V3EBTX"
      }
    },
    {
      "cell_type": "code",
      "source": [
        "from PIL import Image\n",
        "import requests\n",
        "from io import BytesIO\n",
        "\n",
        "response = requests.get('https://images-na.ssl-images-amazon.com/images/I/51aqe85GMwL._SX332_BO1,204,203,200_.jpg')\n",
        "img = Image.open(BytesIO(response.content))\n",
        "img"
      ],
      "metadata": {
        "id": "3ijfERjqD-1x"
      },
      "execution_count": null,
      "outputs": []
    },
    {
      "cell_type": "markdown",
      "source": [
        "Here is a short abstract to the book.\n",
        "\n",
        "Moby-Dick; or, The Whale is an 1851 novel by American writer Herman Melville. The book is the sailor Ishmael's narrative of the obsessive quest of Ahab, captain of the whaling ship Pequod, for revenge against Moby Dick, the giant white sperm whale that on the ship's previous voyage bit off Ahab's leg at the knee.\n",
        "\n",
        "From: https://en.wikipedia.org/wiki/Moby-Dick#:~:text=Moby%2DDick%3B%20or%2C%20The,Ahab's%20leg%20at%20the%20knee."
      ],
      "metadata": {
        "id": "9by7u45dEGrm"
      }
    },
    {
      "cell_type": "markdown",
      "source": [
        "The code below allows us to open the book"
      ],
      "metadata": {
        "id": "ZPqdCleqIQgp"
      }
    },
    {
      "cell_type": "code",
      "source": [
        "fp = open('2701-0.txt')\n",
        "fp"
      ],
      "metadata": {
        "id": "GfWnYe_cEEIu"
      },
      "execution_count": null,
      "outputs": []
    },
    {
      "cell_type": "markdown",
      "source": [
        "#### How many words did the author use?\n",
        "\n",
        "\n"
      ],
      "metadata": {
        "id": "P-vn0bCwELb7"
      }
    },
    {
      "cell_type": "code",
      "source": [
        "fp = open('2701-0.txt')\n",
        "count_words = 0\n",
        "for line in fp:\n",
        "    count_words += len(line.split())\n",
        "count_words\n",
        "print( 'There are ' + str(count_words) +' words')"
      ],
      "metadata": {
        "id": "MXc1WPMWEJZ2"
      },
      "execution_count": null,
      "outputs": []
    },
    {
      "cell_type": "markdown",
      "source": [
        "We used the loop to split the words in the ine and count the number of the words. As the loop counts one word, it will add 1 to the count_words and the result shows that there are 215,864 words. Since the average novel has about 70,000 to 120,000 words, we can clearly see that this book has more word than the average novel. We thought that making this metrics would help readers to notice the approximate level of this book."
      ],
      "metadata": {
        "id": "7ldA9TyhITLv"
      }
    },
    {
      "cell_type": "markdown",
      "source": [
        "#### How many lines are there?\n"
      ],
      "metadata": {
        "id": "newkH4qZEP4q"
      }
    },
    {
      "cell_type": "code",
      "source": [
        "fp = open('2701-0.txt')\n",
        "count_line = 0\n",
        "for line in fp:\n",
        "    count_line += 1\n",
        "count_line\n",
        "print ( 'There are ' + str(count_line) + ' lines')   "
      ],
      "metadata": {
        "id": "jITWXL9WEOCr"
      },
      "execution_count": null,
      "outputs": []
    },
    {
      "cell_type": "markdown",
      "source": [
        "Similar to how we found the number of word used, we just added 1 everytime the code recognizes a line. Compared to pervious metrics, it was much easier to do because we didn't had to find the length of splitted line. There are 22,316 lines. We can see that there are lots of lines in the book but one thing to notice is that it is a number of lines not sentences. We thought that this metrics is helpful because the readers can notice how long the book is if they read it from the gutenberg."
      ],
      "metadata": {
        "id": "U2fLrMTbIybH"
      }
    },
    {
      "cell_type": "markdown",
      "source": [
        "#### What is the average word count in a sentence?\n"
      ],
      "metadata": {
        "id": "_AuL7d5dESM2"
      }
    },
    {
      "cell_type": "code",
      "source": [
        "blank = []\n",
        "fp = open('2701-0.txt')\n",
        "text = fp.read()\n",
        "text = text.replace('\\n', ' ')\n",
        "sentences = text.split('.')\n",
        "for sentence in sentences:\n",
        "        words = sentence.split(' ')\n",
        "        blank.append(len(words))\n",
        "average_wordcount_in_sentences = sum(blank)/len(sentences)\n",
        "\n",
        "print ( \"There are \" + str(len(sentences)) + ' sentences')\n",
        "\n",
        "print(\"There are \" + str(round(average_wordcount_in_sentences,1)) + ' words in a sentence')"
      ],
      "metadata": {
        "id": "qqt7u9gNERhE"
      },
      "execution_count": null,
      "outputs": []
    },
    {
      "cell_type": "markdown",
      "source": [
        "We first created a array name blank. After spliting the text into the sentences (by spliting the period), we then divided words by spliting the space used after the word. Then, we append the length of the words into the array. Since sum(blank) code just prints out the blank, we used it to represent the number of words. Then, used len(sentences) to count the number of sentences used. We could use len(blank) but we wanted to approach the answer in mathematical way. We found out that there are 8,195 sentences and about 27.8 words were used in a sentence. We could also found out that one sentence used about 2.7 lines. This represents that the author uses lots of word to write one sentence, proving why this book uses so many words. We thought that this metrics is useful because readers can estimate the writing style of the author because all readers have different preference in the book."
      ],
      "metadata": {
        "id": "MTeJ0qPNMhE6"
      }
    },
    {
      "cell_type": "markdown",
      "source": [
        "#### How many unique words  used?"
      ],
      "metadata": {
        "id": "qZE8_VDXEXDS"
      }
    },
    {
      "cell_type": "code",
      "source": [
        "no_punct = \"\"\n",
        "punctuations =  '''!()-[]{};:’\"\\,<>“”./?@#$%^&*_~'''\n",
        "for char in text:\n",
        "   if char not in punctuations:\n",
        "       no_punct = no_punct + char\n",
        "no_punct = no_punct.lower()\n",
        "mystring = no_punct.replace('\\n', ' ')\n",
        "mystrings = mystring.split()\n",
        "uni = set(mystrings)\n",
        "print(len(uni))"
      ],
      "metadata": {
        "id": "BJLZH30kEWYv"
      },
      "execution_count": null,
      "outputs": []
    },
    {
      "cell_type": "markdown",
      "source": [
        "Although there are 215,864 words in the book, we thought that it is important to find out how many unique words are used. First, we took out of all of the punctuations from the text. It took a lot of time because the punctuation used in the book are different with the normal punctuation that we could type. Thus, we had to copy and paste it from the text. Then, we created a no_punct text by adding the original text with character. Then, we changed all of the characters into lower case and replaced \\n (starting next line) with space. We splited the resulted text to extract the words and used set code to not count the used word. As a result, we found out that 20,352 unique words were used. Usually, the authors use about 10,000 unique words, thus we can see how many unique words the author used. We thought that this metrics can help readers by noticing how many different words were used. Based on this, they can predict the level of this book and vocabs. "
      ],
      "metadata": {
        "id": "GWT9yHQTOHAB"
      }
    },
    {
      "cell_type": "markdown",
      "source": [
        "#### Most frequently used word"
      ],
      "metadata": {
        "id": "uL0qr6UaEb2W"
      }
    },
    {
      "cell_type": "code",
      "source": [
        "import collections\n",
        "import re\n",
        "words = re.findall(r'\\w+', open('2701-0.txt').read().lower())\n",
        "Counter = collections.Counter(words)\n",
        "Counter.most_common(22)\n"
      ],
      "metadata": {
        "id": "xNGJA4j2Edym"
      },
      "execution_count": null,
      "outputs": []
    },
    {
      "cell_type": "markdown",
      "source": [
        "We used collection package to find the frequency of using a specific word. Once again, we switched all of the words into the lower case. Then, used collections.counter function to list out frequently used words. We chose until 22 because top 1~21 words are either article or prepositions. Since this book is about whale, the author used the word whale often. We used this metrics to entertain readers because they can learn how many articles and grammatical words are used in a novel. Also, they can easily see the words that were used by just simply changing the number in the code."
      ],
      "metadata": {
        "id": "-MPZgKa7Qxq3"
      }
    },
    {
      "cell_type": "markdown",
      "source": [
        "## Second Book"
      ],
      "metadata": {
        "id": "yp2cMd5uEk0a"
      }
    },
    {
      "cell_type": "code",
      "source": [
        "import os\n",
        "\n",
        "if not os.path.exists('1342-0.txt'):\n",
        "    !wget https://www.gutenberg.org/files/1342/1342-0.txt\n"
      ],
      "metadata": {
        "id": "LO0sPkLWEo4y"
      },
      "execution_count": null,
      "outputs": []
    },
    {
      "cell_type": "markdown",
      "source": [
        "The second book we chose is pride and prejudice written by Jane Austen. We chose to analyze this book because this book is also well known to the readers. However, it is less famous than Moby-dick so we thought it could also give great insight to the readers. Also, when we first opened the book, we noticed that there are only 61 chapters in the book. Thus, we thought that this would be a greate comparision with our previous book. The link to the book is\n",
        "\n",
        "https://www.gutenberg.org/files/1342/1342-0.txt.\n",
        "\n",
        "Our group hypothesize that this book will have an average amount of words, lines and sentences. It will have much less words, lines, and sentences than that of Moby-dick."
      ],
      "metadata": {
        "id": "4rH12bMIV8qz"
      }
    },
    {
      "cell_type": "code",
      "source": [
        "from PIL import Image\n",
        "import requests\n",
        "from io import BytesIO\n",
        "\n",
        "response = requests.get('https://target.scene7.com/is/image/Target/GUEST_6ed2d767-15f7-447e-aecc-d2e8a7a838f7?wid=488&hei=488&fmt=pjpeg')\n",
        "img2 = Image.open(BytesIO(response.content))\n",
        "img2"
      ],
      "metadata": {
        "id": "UH9bj8-BEq18"
      },
      "execution_count": null,
      "outputs": []
    },
    {
      "cell_type": "markdown",
      "source": [
        "The abstract of this book is written below."
      ],
      "metadata": {
        "id": "OziK8fzeYg_6"
      }
    },
    {
      "cell_type": "markdown",
      "source": [
        "Since its immediate success in 1813, Pride and Prejudice has remained one of the most popular novels in the English language. Jane Austen called this brilliant work \"her own darling child\" and its vivacious heroine, Elizabeth Bennet, \"as delightful a creature as ever appeared in print.\" The romantic clash between the opinionated Elizabeth and her proud beau, Mr. Darcy, is a splendid performance of civilized sparring. And Jane Austen's radiant wit sparkles as her characters dance a delicate quadrille of flirtation and intrigue, making this book the most superb comedy of manners of Regency England. \n",
        "\n",
        "From: https://www.goodreads.com/book/show/1885.Pride_and_Prejudice"
      ],
      "metadata": {
        "id": "EbR-IWq9EvKs"
      }
    },
    {
      "cell_type": "code",
      "source": [
        "fp = open('1342-0.txt')\n",
        "fp"
      ],
      "metadata": {
        "id": "qsWYPCYYErMo"
      },
      "execution_count": null,
      "outputs": []
    },
    {
      "cell_type": "markdown",
      "source": [
        "#### How many words did the author use?\n"
      ],
      "metadata": {
        "id": "KBx75AW2EyI0"
      }
    },
    {
      "cell_type": "code",
      "source": [
        "fp = open('1342-0.txt')\n",
        "count_words = 0\n",
        "for line in fp:\n",
        "    count_words += len(line.split())\n",
        "count_words\n",
        "print( 'There are ' + str(count_words) +' words')"
      ],
      "metadata": {
        "id": "SHMTuU5KExnr"
      },
      "execution_count": null,
      "outputs": []
    },
    {
      "cell_type": "markdown",
      "source": [
        "According to our code, we found that about 124,749 books words were used. Compared to that of Moby-dick, it is almost half of the words used for Moby-dick. Based on the codes that we used before, we just chaned the text name."
      ],
      "metadata": {
        "id": "E-uth732XHH0"
      }
    },
    {
      "cell_type": "markdown",
      "source": [
        "#### How many lines are there?\n"
      ],
      "metadata": {
        "id": "EW6KduQ5E1yb"
      }
    },
    {
      "cell_type": "code",
      "source": [
        "fp = open('1342-0.txt')\n",
        "count_line = 0\n",
        "for line in fp:\n",
        "    count_line += 1\n",
        "count_line\n",
        "print ( 'There are ' + str(count_line) + ' lines')  "
      ],
      "metadata": {
        "id": "Gyi219LtE1Sz"
      },
      "execution_count": null,
      "outputs": []
    },
    {
      "cell_type": "markdown",
      "source": [
        "Based on our code, there are 14,579 lines used in this book. This is also much less than the line of Moby-dick. We can figure out that the readers can easily reach out to read this book. "
      ],
      "metadata": {
        "id": "yN-bIZVIXWXq"
      }
    },
    {
      "cell_type": "markdown",
      "source": [],
      "metadata": {
        "id": "aMx7WU5HXUSk"
      }
    },
    {
      "cell_type": "markdown",
      "source": [
        "#### What is the average word count in a sentence?\n"
      ],
      "metadata": {
        "id": "MZfe0_FdE46j"
      }
    },
    {
      "cell_type": "code",
      "source": [
        "blank2 = []\n",
        "fp = open('1342-0.txt')\n",
        "text2 = fp.read()\n",
        "text2 = text2.replace('\\n', ' ')\n",
        "sentences2 = text2.split('.')\n",
        "for sentence2 in sentences2:\n",
        "        words2 = sentence2.split(' ')\n",
        "        blank2.append(len(words2))\n",
        "average_wordcount_in_sentences2 = sum(blank2)/len(blank2)\n",
        "\n",
        "print ( \"There are \" + str(len(blank2)) + ' sentences')\n",
        "\n",
        "print(\"There are \" + str(round(average_wordcount_in_sentences2,1)) + ' words in a sentence')\n"
      ],
      "metadata": {
        "id": "_o7iN7alE6nV"
      },
      "execution_count": null,
      "outputs": []
    },
    {
      "cell_type": "markdown",
      "source": [
        "Our code shows that there are 6,404 sentences in this book and about 31.9 words are used for one sentence. Although, this book has less number of words, lines, and sentences, there are much more words used for a sentence. We can notice that the author favors to write long sentences."
      ],
      "metadata": {
        "id": "pPTlNFF7XjTB"
      }
    },
    {
      "cell_type": "markdown",
      "source": [
        "#### How many unique words  used?"
      ],
      "metadata": {
        "id": "hKhbPhJOFGMC"
      }
    },
    {
      "cell_type": "code",
      "source": [
        "no_punct2 = \"\"\n",
        "punctuations =  '''!()-[]{};:’\"\\,<>“”./?@#$%^&*_~'''\n",
        "for char in text2:\n",
        "   if char not in punctuations:\n",
        "       no_punct2 = no_punct2 + char\n",
        "no_punct2 = no_punct2.lower()\n",
        "mystring = no_punct2.replace('\\n', ' ')\n",
        "mystrings = mystring.split()\n",
        "uni = set(mystrings)\n",
        "print(len(uni))"
      ],
      "metadata": {
        "id": "2OB8AkOqFIMa"
      },
      "execution_count": null,
      "outputs": []
    },
    {
      "cell_type": "markdown",
      "source": [
        "Since less amount of words were used, there are only 7,135 unique words used. Although the author likes to write long sentences, she didn't use various kind of words. This is less than a half of unique words used in Moby-dick."
      ],
      "metadata": {
        "id": "QXhEHG-UX4CU"
      }
    },
    {
      "cell_type": "markdown",
      "source": [
        "#### Most frequently used word"
      ],
      "metadata": {
        "id": "fMXXOlwXFxhY"
      }
    },
    {
      "cell_type": "code",
      "source": [
        "import collections\n",
        "import re\n",
        "words = re.findall(r'\\w+', open('1342-0.txt').read().lower())\n",
        "Counter = collections.Counter(words)\n",
        "Counter.most_common(26)\n"
      ],
      "metadata": {
        "id": "6hofSB9yF7R_"
      },
      "execution_count": null,
      "outputs": []
    },
    {
      "cell_type": "markdown",
      "source": [
        "Lastly, similar to the Moby-dick, top 25 words were prepositions and articles. However, one thing to notice is that pronouns were often used in this book. We think this is because the book 'Pride and Prejudice' is about a woman during the past. One thing that surprised us is that Mr was used more than Mrs or Ms. "
      ],
      "metadata": {
        "id": "cwEJhkF3YD3z"
      }
    },
    {
      "cell_type": "markdown",
      "source": [
        "## Question 3\n",
        "### Open Datasets: Part I\n",
        "Find an open dataset from the ones available at [AWS OpenData](https://aws.amazon.com/opendata/?wwps-cards.sort-by=item.additionalFields.sortDate&wwps-cards.sort-order=desc) that provides data that interests you. \n",
        "\n",
        "Some of them will be hard to work with, so, I would like you to try working with whichever interest your group members and then explain in your solution here which open datasets you were interested in and why, which you tried to use but couldn't use, e.g. there may a data format which was too difficult to work with, limited tutorial, etc.\n",
        "\n",
        "Note, you may need access to AWS resources in some of the tutorials. For those, you will need to use AWS SageMaker and other AWS tools via the AWS Console. I will be happy to meet with your group to assist you on this part."
      ],
      "metadata": {
        "id": "Ea6hPztESLpK"
      }
    },
    {
      "cell_type": "markdown",
      "source": [
        "We first tried to access New York City [taxi data](https://aws.amazon.com/marketplace/pp/prodview-okyonroqg5b2u?sr=0-61&ref_=beagle&applicationId=AWSMPContessa#resources) but unfortunately when we tried to access the data we got the message: \"Access Denied\""
      ],
      "metadata": {
        "id": "UleQsR93JzMb"
      }
    },
    {
      "cell_type": "code",
      "source": [
        "!pip install awscli"
      ],
      "metadata": {
        "id": "akFau7_WIOJv"
      },
      "execution_count": null,
      "outputs": []
    },
    {
      "cell_type": "code",
      "source": [
        "!aws configure set default.region us-east-1"
      ],
      "metadata": {
        "id": "kaTSH9RiIvD0"
      },
      "execution_count": null,
      "outputs": []
    },
    {
      "cell_type": "code",
      "source": [
        "!aws s3 ls --no-sign-request s3://nyc-tlc/"
      ],
      "metadata": {
        "id": "cgFlkkyhI62i"
      },
      "execution_count": null,
      "outputs": []
    },
    {
      "cell_type": "markdown",
      "source": [
        "Next, we tried looking at weather data from NASA POWER. This was done successfully:"
      ],
      "metadata": {
        "id": "XTwhAQiBQ1lm"
      }
    },
    {
      "cell_type": "code",
      "source": [
        "!aws s3 ls --no-sign-request s3://power-analysis-ready-datastore/"
      ],
      "metadata": {
        "id": "Ust5qxKCKU6U"
      },
      "execution_count": null,
      "outputs": []
    },
    {
      "cell_type": "code",
      "source": [
        "!aws s3 ls --no-sign-request s3://power-analysis-ready-datastore/"
      ],
      "metadata": {
        "id": "XTDeHTa5RLP9"
      },
      "execution_count": null,
      "outputs": []
    },
    {
      "cell_type": "code",
      "source": [
        "!aws s3 cp --no-sign-request s3://power-analysis-ready-datastore/flashflux.json .\n",
        "!cat flashflux.json"
      ],
      "metadata": {
        "id": "pUmZlN4OQa6d"
      },
      "execution_count": null,
      "outputs": []
    },
    {
      "cell_type": "markdown",
      "source": [
        "However, there was not much interesting data to look at. All the json files are just date markers and the other data consists of zarray files that we could not figure out how to open. Finally, we decided to look at [harmonized COVID-19 data](https://aws.amazon.com/marketplace/pp/prodview-hlb5psmw7gu3a?sr=0-98&ref_=beagle&applicationId=AWSMPContessa#resources) because we found it relevant and interesting. Luckily, all files in this dataset were in csv format, making them easy to analyze (as shown in the following questions). "
      ],
      "metadata": {
        "id": "7-P1TfaFRBtQ"
      }
    },
    {
      "cell_type": "code",
      "source": [
        "!aws s3 ls --no-sign-request s3://covid19-harmonized-dataset/covid19tos3/c19_trk_us_daily/"
      ],
      "metadata": {
        "id": "CAwaWmSSh3fM"
      },
      "execution_count": null,
      "outputs": []
    },
    {
      "cell_type": "markdown",
      "metadata": {
        "id": "Skt2EJio2oNG"
      },
      "source": [
        "## Question 4\n",
        "### Open Dataset: Part II\n",
        "After that walkthrough of the challenges of one or more datasets, proceed with choosing one that you want to work with. Then, prepare a walkthrough, similar to what I shared with you in the New York Times API notebook and the Python notebook, that show other students how to use the Open dataset you picked, what interesting data you can gather, and use them to answer a simple question. For instance, we answered the question of how many weeks a book stays on the bestseller list in the API notebook. You are encouraged to build upon the existing tutorials, but make sure to cite and link to any tutorials you use.\n"
      ]
    },
    {
      "cell_type": "markdown",
      "source": [
        "### COVID-19 Harmonized Data- Exploring the Data\n",
        "This data, available for free on AWS, contains information about COVID-19 specifically in the US. There are many core metrics, such as deaths from COVID and total number of tests. Using the instructions provided on the [AWS website](https://aws.amazon.com/marketplace/pp/prodview-hlb5psmw7gu3a?sr=0-98&ref_=beagle&applicationId=AWSMPContessa#resources), we can first view the data as follows:"
      ],
      "metadata": {
        "id": "hXNF2EYIp6FC"
      }
    },
    {
      "cell_type": "code",
      "source": [
        "!aws s3 ls --no-sign-request s3://covid19-harmonized-dataset/"
      ],
      "metadata": {
        "id": "-25yFb4Kq8pe"
      },
      "execution_count": null,
      "outputs": []
    },
    {
      "cell_type": "markdown",
      "source": [
        "Next, we can look through the different data. First, we must go into the COVID-19 information that is located further in the pathway. We do this by typing in the same command but adding an extension identical to one of the rows of output above. Let's look at the path named \"covid19tos3\", which looks the most promising. "
      ],
      "metadata": {
        "id": "Gk_-Xphaq9OF"
      }
    },
    {
      "cell_type": "code",
      "source": [
        "!aws s3 ls --no-sign-request s3://covid19-harmonized-dataset/covid19tos3/"
      ],
      "metadata": {
        "id": "Ijp_dq1PrNEO"
      },
      "execution_count": null,
      "outputs": []
    },
    {
      "cell_type": "markdown",
      "source": [
        "Nice! We see lots of different areas of data. Let's look at the daily records in the US. "
      ],
      "metadata": {
        "id": "mvm_k-Y0rl_D"
      }
    },
    {
      "cell_type": "code",
      "source": [
        "!aws s3 ls --no-sign-request s3://covid19-harmonized-dataset/covid19tos3/c19_trk_us_daily/"
      ],
      "metadata": {
        "id": "tLdh19ACsKFe"
      },
      "execution_count": null,
      "outputs": []
    },
    {
      "cell_type": "markdown",
      "source": [
        "We see lots of different csv files. To begin our exploration, we will open one of them and explore the contents. "
      ],
      "metadata": {
        "id": "AHHiFrPmsMdC"
      }
    },
    {
      "cell_type": "markdown",
      "source": [
        "###Opening and Reading CSV Files\n",
        "Let's select the first file that we saw in the previous output. Since we want to download a copy, we use the command \"cp\" instead. We add \".\" to make sure we copy the file into our home directory. "
      ],
      "metadata": {
        "id": "RUckFyAErQ3e"
      }
    },
    {
      "cell_type": "code",
      "source": [
        "!aws s3 cp --no-sign-request s3://covid19-harmonized-dataset/covid19tos3/c19_trk_us_daily/1588780884_1588796745544.csv ."
      ],
      "metadata": {
        "id": "fE_2iMQzS4mt"
      },
      "execution_count": null,
      "outputs": []
    },
    {
      "cell_type": "markdown",
      "source": [
        "Now, let's check to make sure we downloaded the file:"
      ],
      "metadata": {
        "id": "GoNx-7nhs7E3"
      }
    },
    {
      "cell_type": "code",
      "source": [
        "!ls"
      ],
      "metadata": {
        "id": "YeWgzLzMs_uH"
      },
      "execution_count": null,
      "outputs": []
    },
    {
      "cell_type": "markdown",
      "source": [
        "Great! Now, let's take a closer look at the csv file. We'll switch to python, and we need pandas in order to read the file. We'll store it in an object for further interaction:"
      ],
      "metadata": {
        "id": "e1VvnYyUs_Nb"
      }
    },
    {
      "cell_type": "code",
      "source": [
        "import pandas as pd\n",
        "df = pd.read_csv('1588780884_1588796745544.csv')\n",
        "df"
      ],
      "metadata": {
        "id": "0wV530ijll3-"
      },
      "execution_count": null,
      "outputs": []
    },
    {
      "cell_type": "markdown",
      "source": [
        "We can finally see the data! We have information about metrics like deaths, positive tests, and negative tests. Each row represents a different day, and we can see that the data starts from January 22 (although at that time there are not many cases, hence the \"Naan\" values in the bottom rows) and ends May 5th. With the following functions, we can check the column names and the shape (when we input [0], we are asking for the number of rows specifically) of the dataset:"
      ],
      "metadata": {
        "id": "BExpc--Ptymv"
      }
    },
    {
      "cell_type": "code",
      "source": [
        "df.columns"
      ],
      "metadata": {
        "id": "wnAW-Nn0lo_E"
      },
      "execution_count": null,
      "outputs": []
    },
    {
      "cell_type": "code",
      "source": [
        "df.shape[0]"
      ],
      "metadata": {
        "id": "hM04OP2jlq2K"
      },
      "execution_count": null,
      "outputs": []
    },
    {
      "cell_type": "markdown",
      "source": [
        "###Working with the Data- Simple Exercises\n",
        "Let's see what insights we can generate using various functions in Python. First, let's find out which day had the highest positive increase in tests. After specifying a column, we can use the method .idmax() to return the row with the highest value of that column:"
      ],
      "metadata": {
        "id": "T0FzO83JvsKj"
      }
    },
    {
      "cell_type": "code",
      "source": [
        "df['positive_increase'].idxmax()"
      ],
      "metadata": {
        "id": "HR567_HOxdMe"
      },
      "execution_count": null,
      "outputs": []
    },
    {
      "cell_type": "markdown",
      "source": [
        "However, this doesn't tell us the actual date. We need to combine the .loc() method with the \"date\" specification in order to extract the date"
      ],
      "metadata": {
        "id": "bwaMxPuzxsRi"
      }
    },
    {
      "cell_type": "code",
      "source": [
        "max_positive = df.loc[df['positive_increase'].idxmax()]\n",
        "max_positive.date"
      ],
      "metadata": {
        "id": "pk5NwJEXlr2M"
      },
      "execution_count": null,
      "outputs": []
    },
    {
      "cell_type": "markdown",
      "source": [
        "We can do the same with the method .idxmin to find the date with the least positive increase:"
      ],
      "metadata": {
        "id": "YRWASP6a0sk9"
      }
    },
    {
      "cell_type": "code",
      "source": [
        "min_positive = df.loc[df['positive_increase'].idxmin()]\n",
        "min_positive.date"
      ],
      "metadata": {
        "id": "3ngMZ172lrzz"
      },
      "execution_count": null,
      "outputs": []
    },
    {
      "cell_type": "markdown",
      "source": [
        "What if we wanted to find out how many days there were over one million positive cases? We can filter the data in the following manner to get a new data frame with only rows where there were over a million cases. By using the shape method, we can calculate the size and therefore the number of days where there were over a million cases. "
      ],
      "metadata": {
        "id": "zICCjk4u1DsW"
      }
    },
    {
      "cell_type": "code",
      "source": [
        "positive_mil = (df['positive'] >= 1000000)\n",
        "df[positive_mil].shape[0]"
      ],
      "metadata": {
        "id": "BzK-0q2klrxO"
      },
      "execution_count": null,
      "outputs": []
    },
    {
      "cell_type": "markdown",
      "source": [
        "Finally, let's try making a plot of some of the data. We'll use \"hospitalized_increase\" and see how the increase in the number of hospitalized patients changes over time. We first must import pyplot, then we can create a basic plot:"
      ],
      "metadata": {
        "id": "T8d8nOAm1-7n"
      }
    },
    {
      "cell_type": "code",
      "source": [
        "import matplotlib.pyplot as plt\n"
      ],
      "metadata": {
        "id": "MC3mFWavlrvA"
      },
      "execution_count": null,
      "outputs": []
    },
    {
      "cell_type": "code",
      "source": [
        "date = df['date']\n",
        "current_hos = df['hospitalized_increase']"
      ],
      "metadata": {
        "id": "ekl14QKWlrsx"
      },
      "execution_count": null,
      "outputs": []
    },
    {
      "cell_type": "code",
      "source": [
        "plt.plot(date,current_hos);"
      ],
      "metadata": {
        "id": "ajx7yhf7lrqk"
      },
      "execution_count": null,
      "outputs": []
    },
    {
      "cell_type": "markdown",
      "metadata": {
        "id": "SCKWrIAM_IXR"
      },
      "source": [
        "# Question 5\n",
        "\n",
        "## Distributions\n",
        "In Notebook 8 from our textbook, we will be learning tools for working with distributions using Python.\n",
        "\n",
        "Using these tools together with the data you have gathered in the previous questions (from 3 or 4), try to find numerical data that has a Zipf distribution.  You may use the code from the textbook as starter code.\n",
        "\n",
        "If you find such a distribution, explain why you think it appears (e.g. it is common in social network data). If you do not see a Zipf distribution, explain which probability distribution it most closely resembles and plot. You do not need to find a Zipf distribution to get full credit on this question!\n",
        "\n",
        "As always, take time to talk about and present the data and the plots you create, explaining each step along the way."
      ]
    },
    {
      "cell_type": "markdown",
      "source": [
        "Let's repeat the process of loading our COVID data from AWS as a csv:\n",
        "First, we establish us-east-1 as our region."
      ],
      "metadata": {
        "id": "6m58sJgWZptV"
      }
    },
    {
      "cell_type": "code",
      "source": [
        "!aws configure set default.region us-east-1"
      ],
      "metadata": {
        "id": "8wV0la_ygL-9"
      },
      "execution_count": null,
      "outputs": []
    },
    {
      "cell_type": "markdown",
      "source": [
        "Next, we load the dataset from AWS, as ddemonstrated in problem 4."
      ],
      "metadata": {
        "id": "o--9ZfxbgTuf"
      }
    },
    {
      "cell_type": "code",
      "source": [
        "!aws s3 ls --no-sign-request s3://covid19-harmonized-dataset/covid19tos3/"
      ],
      "metadata": {
        "id": "IqFes9ynsFVF"
      },
      "execution_count": null,
      "outputs": []
    },
    {
      "cell_type": "code",
      "source": [
        "!aws s3 cp --no-sign-request s3://covid19-harmonized-dataset/covid19tos3/c19_trk_us_daily/1588780884_1588796745544.csv ."
      ],
      "metadata": {
        "id": "xrVuGK0dZoHH"
      },
      "execution_count": null,
      "outputs": []
    },
    {
      "cell_type": "markdown",
      "source": [
        "Checking to make sure it is downloaded"
      ],
      "metadata": {
        "id": "Py3OQ1INZyYT"
      }
    },
    {
      "cell_type": "code",
      "source": [
        "!ls"
      ],
      "metadata": {
        "id": "HeafFY0SZ0a0"
      },
      "execution_count": null,
      "outputs": []
    },
    {
      "cell_type": "markdown",
      "source": [
        "Just like we did in number 4, we switch to python to see the dataset in csv format."
      ],
      "metadata": {
        "id": "mcimse_xZ7vN"
      }
    },
    {
      "cell_type": "code",
      "source": [
        "import pandas as pd\n",
        "df = pd.read_csv('1588780884_1588796745544.csv')\n",
        "df.head()"
      ],
      "metadata": {
        "id": "pu7qa1b9Z0_j"
      },
      "execution_count": null,
      "outputs": []
    },
    {
      "cell_type": "markdown",
      "source": [
        "Now to continue visualizing our data, we import matplot"
      ],
      "metadata": {
        "id": "FvVhlQ-Yahdu"
      }
    },
    {
      "cell_type": "code",
      "source": [
        "import matplotlib.pyplot as plt\n"
      ],
      "metadata": {
        "id": "fZTzkb7Zaf4h"
      },
      "execution_count": null,
      "outputs": []
    },
    {
      "cell_type": "markdown",
      "source": [
        "Below, we take the 'date' and 'hospitalized_increase' columns and store them as objects (vectors).  'date' is a vectors of dates, each one unique.  'hospitalized_increase' is the increase in hospitalizations during the COVID-19 pandemic."
      ],
      "metadata": {
        "id": "qty5yhVJg8_z"
      }
    },
    {
      "cell_type": "code",
      "source": [
        "date = df['date']\n",
        "current_hos = df['hospitalized_increase']"
      ],
      "metadata": {
        "id": "zdR8Kg3daf4j"
      },
      "execution_count": null,
      "outputs": []
    },
    {
      "cell_type": "code",
      "source": [
        "import pandas as pd\n",
        "date.describe() ## shows information about the 'date' vector"
      ],
      "metadata": {
        "id": "9q9Vpz_RjSAJ"
      },
      "execution_count": null,
      "outputs": []
    },
    {
      "cell_type": "markdown",
      "source": [
        "First, before start to visualize COVID data, let's take a quick look at the zipf distribution.  For every one unit of discrete increase in the independent variable, our dependent should shrink by half of its size.  Thus, we have a steep and rapidly decressing distribution that resembles rapid exponential decay.\n",
        "\n"
      ],
      "metadata": {
        "id": "Ho8JnZnesehb"
      }
    },
    {
      "cell_type": "markdown",
      "source": [
        "Example of zipf distribution:\n",
        "\n",
        "![Screen Shot 2022-10-03 at 5.15.42 PM.png](data:image/png;base64,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)"
      ],
      "metadata": {
        "id": "0CXsXybUspfN"
      }
    },
    {
      "cell_type": "markdown",
      "source": [
        "Below is a visualization of the probability density of a zipf distribution.  A probability density function, or pdf, provides the probability of realizing a range of values in a distribution through integration.\n",
        "\n",
        "![Screen Shot 2022-10-03 at 5.22.59 PM.png](data:image/png;base64,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)"
      ],
      "metadata": {
        "id": "66z8jHC3uyM7"
      }
    },
    {
      "cell_type": "markdown",
      "source": [
        "Below is an example of the cumulative density function, or cdf, of a zipf distribution. A cdf demonstrates the density of values in a given distribution.  For zipf distributions, we can interpret the cdf as the y-axis showing the proportion of values left, as x increases.  Thus, because a zipf distribution decreases exponentially fast, we see the cdf rapidly increases, resembling a logarithmic function. \n",
        "\n",
        "![Screen Shot 2022-10-03 at 5.27.32 PM.png](data:image/png;base64,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)"
      ],
      "metadata": {
        "id": "e_NrvwVbvkrA"
      }
    },
    {
      "cell_type": "markdown",
      "source": [
        "# Comparing COVID dist. to Zipf"
      ],
      "metadata": {
        "id": "X07aRbYiwaoq"
      }
    },
    {
      "cell_type": "markdown",
      "source": [
        "Okay.  Now that we know some basic properties of Zipf distributions, let's examine our covid data. Here we reproduce the chart from the end of quesiton 4, but view it as a scatterplot instead of a line graph.  The distribution is not exactly a zipf, but has similar qualities showing rapid exponential decay."
      ],
      "metadata": {
        "id": "y871fuV-azlR"
      }
    },
    {
      "cell_type": "code",
      "source": [
        "plt.plot(date,current_hos,\n",
        "         marker = 'o', linestyle = '');"
      ],
      "metadata": {
        "id": "T48P57YBaf4k"
      },
      "execution_count": null,
      "outputs": []
    },
    {
      "cell_type": "markdown",
      "source": [
        "We can also view the data as a histogram, which resembles a zipf distribution much more."
      ],
      "metadata": {
        "id": "H3GLBJgohMpJ"
      }
    },
    {
      "cell_type": "code",
      "source": [
        "current_hos.hist(grid=False)"
      ],
      "metadata": {
        "id": "bT9sVqk9hLs0"
      },
      "execution_count": null,
      "outputs": []
    },
    {
      "cell_type": "markdown",
      "source": [
        "Let's explore some other variables in our covid dataset!"
      ],
      "metadata": {
        "id": "hy9mbPTSdEXQ"
      }
    },
    {
      "cell_type": "markdown",
      "source": [
        "Below we repeat what we did for new hospitalizations with the increase of positive cases and create a scatterplot.  This has a similar distribution to new hospitalizations, which is expected. "
      ],
      "metadata": {
        "id": "DoX1tQ9aw57f"
      }
    },
    {
      "cell_type": "code",
      "source": [
        "current_pos = df['positive_increase']\n",
        "plt.plot(date,current_pos,\n",
        "         marker = 'o', linestyle = '');"
      ],
      "metadata": {
        "id": "XoM28rcJcer-"
      },
      "execution_count": null,
      "outputs": []
    },
    {
      "cell_type": "markdown",
      "source": [
        "The histogram for daily increases in positive cases looks more uniform, especially as x approaches infinity.  Thus, daily increases in hospitalizations looks more promising to resemble a Zipf distribution."
      ],
      "metadata": {
        "id": "i2fnKRzhxqKp"
      }
    },
    {
      "cell_type": "code",
      "source": [
        "current_pos.hist(grid=False)"
      ],
      "metadata": {
        "id": "sN2uGjWaxmJI"
      },
      "execution_count": null,
      "outputs": []
    },
    {
      "cell_type": "markdown",
      "source": [
        "Let's explore one last variable: the daily new deaths from COVID.  We repeat the process of creating the vector and scatterplots.  We see another skewed right, exponential- decay-resembling function, but it is not as steep as the other two variables."
      ],
      "metadata": {
        "id": "WaKPA493xGPR"
      }
    },
    {
      "cell_type": "code",
      "source": [
        "current_death = df['death_increase']\n",
        "plt.plot(date,current_death,\n",
        "         marker = 'o', linestyle = '');"
      ],
      "metadata": {
        "id": "45dKhF2WnEcY"
      },
      "execution_count": null,
      "outputs": []
    },
    {
      "cell_type": "markdown",
      "source": [
        "To recap, the daily increase in hospitalizations appears to be the closest to a Zipf distribution because of its steep exponential decay. "
      ],
      "metadata": {
        "id": "TKk-cu-3yCJJ"
      }
    },
    {
      "cell_type": "markdown",
      "source": [
        "Our next step is to approximate the pdf of our variables. To do this we import the seaborn package."
      ],
      "metadata": {
        "id": "X1f6VQjmyO6B"
      }
    },
    {
      "cell_type": "code",
      "source": [
        "import seaborn as sns"
      ],
      "metadata": {
        "id": "LzYkjXr0kjIn"
      },
      "execution_count": null,
      "outputs": []
    },
    {
      "cell_type": "markdown",
      "source": [
        "In the seaborn package, we can use the sns.kdeplot() function to approximate the pdf.  The approximate pdf of the incresase of hospitalizations is skewed right, but the decay is not as rapid as we were expecting."
      ],
      "metadata": {
        "id": "cXvj0npvyVxs"
      }
    },
    {
      "cell_type": "code",
      "source": [
        "sns.kdeplot(current_hos)"
      ],
      "metadata": {
        "id": "eDp_ukprmnx5"
      },
      "execution_count": null,
      "outputs": []
    },
    {
      "cell_type": "markdown",
      "source": [
        "The approximate pdf for daily new positive cases is even less resembling of a Zipf because of its two large humps."
      ],
      "metadata": {
        "id": "fcvIdChgylpq"
      }
    },
    {
      "cell_type": "code",
      "source": [
        "sns.kdeplot(current_pos)"
      ],
      "metadata": {
        "id": "NYWpbs3OmuOO"
      },
      "execution_count": null,
      "outputs": []
    },
    {
      "cell_type": "markdown",
      "source": [
        "Interestingly, the approximate pdf of the daily new deaths most resembles the pdf of a Zipf distirbution.  It does not demonstrate swift exponential decay, but this is interesting because it has the closest pdf to the Zipf, but did not resemble a Zipf when we looked at the scatterplot."
      ],
      "metadata": {
        "id": "NPx_H_4lyvyQ"
      }
    },
    {
      "cell_type": "code",
      "source": [
        "sns.kdeplot(current_death)"
      ],
      "metadata": {
        "id": "5d9epQ1am5Jl"
      },
      "execution_count": null,
      "outputs": []
    },
    {
      "cell_type": "markdown",
      "source": [
        "Lastly, let's examine the cdfs of our three variables."
      ],
      "metadata": {
        "id": "pPsYjcMwzaqH"
      }
    },
    {
      "cell_type": "markdown",
      "source": [
        "Below is the cdf of the daily new hospitalizations."
      ],
      "metadata": {
        "id": "m5h59MFkzsdj"
      }
    },
    {
      "cell_type": "code",
      "source": [
        "cdf_hos = Cdf.from_seq(current_hos)\n",
        "cdf_hos.plot()"
      ],
      "metadata": {
        "id": "DDoK-UlnogzW"
      },
      "execution_count": null,
      "outputs": []
    },
    {
      "cell_type": "markdown",
      "source": [
        "Below is the cdf of the daily new positive cases."
      ],
      "metadata": {
        "id": "iS9t2fPyzx62"
      }
    },
    {
      "cell_type": "code",
      "source": [
        "cdf_pos = Cdf.from_seq(current_pos)\n",
        "cdf_pos.plot()"
      ],
      "metadata": {
        "id": "_NQitN1voYhT"
      },
      "execution_count": null,
      "outputs": []
    },
    {
      "cell_type": "markdown",
      "source": [
        "Below is the cdf of the daily new deaths."
      ],
      "metadata": {
        "id": "WPutY4kdz0V6"
      }
    },
    {
      "cell_type": "code",
      "source": [
        "cdf_death = Cdf.from_seq(current_death)\n",
        "cdf_death.plot()"
      ],
      "metadata": {
        "id": "SRjVATtQn5Sc"
      },
      "execution_count": null,
      "outputs": []
    },
    {
      "cell_type": "markdown",
      "source": [
        "When comparing the three CDFs, the daily hospitalizations most resembles the logarithmic shape of a Zipf distribution.  The resemblence is relatively strong, in my opinion."
      ],
      "metadata": {
        "id": "Ji6UppGCzn4z"
      }
    },
    {
      "cell_type": "markdown",
      "source": [
        "In conclusion...."
      ],
      "metadata": {
        "id": "FFIEVFu50CuY"
      }
    },
    {
      "cell_type": "markdown",
      "source": [
        "Out of the three variables I examined, the daily increase of hospitalizations has the closest distribution and cdf to a Zipf distribution.  The distribution in the histogram and scatterplot appears to be rapidly declining, yet not quite as rapid as a Zipf.  The cdf is also very close to the zipf because it rapidly increases, but does not occur until x = 2000.  The daily increase in hospitalizations is the closest to a Zipf distribution, but does not exactly follow the Zipf."
      ],
      "metadata": {
        "id": "IxdrH1ZN2sn5"
      }
    }
  ]
}